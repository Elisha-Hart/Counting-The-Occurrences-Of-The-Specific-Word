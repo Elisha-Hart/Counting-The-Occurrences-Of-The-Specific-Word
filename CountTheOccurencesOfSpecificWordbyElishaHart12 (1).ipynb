{
 "cells": [
  {
   "cell_type": "code",
   "execution_count": 2,
   "id": "1e510a51-b98d-4744-a6d1-e172090dc3a4",
   "metadata": {},
   "outputs": [
    {
     "name": "stdout",
     "output_type": "stream",
     "text": [
      "The count is: 2\n"
     ]
    }
   ],
   "source": [
    "### Count The Occurences Of A Specific Word\n",
    "\n",
    "string = \"What in the world is in you?\"\n",
    "substring = \"in\"\n",
    "\n",
    "count = string.count(substring)\n",
    "\n",
    "print(\"The count is:\", count)"
   ]
  },
  {
   "cell_type": "code",
   "execution_count": null,
   "id": "60b38047-4929-4888-93ba-bd070511c8fa",
   "metadata": {},
   "outputs": [],
   "source": []
  },
  {
   "cell_type": "code",
   "execution_count": null,
   "id": "ea7b0a6f-9bed-49f1-badd-b6991a38c27b",
   "metadata": {},
   "outputs": [],
   "source": []
  }
 ],
 "metadata": {
  "kernelspec": {
   "display_name": "anaconda-2022.05-py39",
   "language": "python",
   "name": "conda-env-anaconda-2022.05-py39-py"
  },
  "language_info": {
   "codemirror_mode": {
    "name": "ipython",
    "version": 3
   },
   "file_extension": ".py",
   "mimetype": "text/x-python",
   "name": "python",
   "nbconvert_exporter": "python",
   "pygments_lexer": "ipython3",
   "version": "3.9.12"
  }
 },
 "nbformat": 4,
 "nbformat_minor": 5
}
